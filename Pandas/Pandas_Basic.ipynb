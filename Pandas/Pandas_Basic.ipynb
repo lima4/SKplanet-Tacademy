{
 "cells": [
  {
   "cell_type": "markdown",
   "metadata": {},
   "source": [
    "# 판다스 Pandas"
   ]
  },
  {
   "cell_type": "code",
   "execution_count": 1,
   "metadata": {},
   "outputs": [],
   "source": [
    "import numpy as np\n",
    "import pandas as pd"
   ]
  },
  {
   "cell_type": "markdown",
   "metadata": {},
   "source": [
    "## 시리즈 Series\n",
    "\n",
    "```\n",
    "리스트와 딕셔너리 두가지의 장점을 섞어 놓은듯한 자료구조\n",
    "리스트나 튜플처럼 숫자인덱싱\n",
    "슬라이싱 기능\n",
    "딕셔너리처럼 키로 접근 가능, 키인덱싱\n",
    "\n",
    "pd.Series(data = 리스트/튜플/넘파이배열/딕션, index = 인덱스리스트)\n",
    "```"
   ]
  },
  {
   "cell_type": "code",
   "execution_count": 2,
   "metadata": {},
   "outputs": [
    {
     "data": {
      "text/plain": [
       "a    1\n",
       "b    2\n",
       "c    3\n",
       "d    4\n",
       "e    5\n",
       "dtype: int64"
      ]
     },
     "execution_count": 2,
     "metadata": {},
     "output_type": "execute_result"
    }
   ],
   "source": [
    "# 딕셔너리 ==>> 시리즈\n",
    "mydict = {'a' : 1, 'b':2, 'c':3, 'd':4, 'e':5}\n",
    "s1 = pd.Series(mydict) # s1 = pd.Series(data=mydict)도 가능\n",
    "s1"
   ]
  },
  {
   "cell_type": "code",
   "execution_count": 3,
   "metadata": {},
   "outputs": [
    {
     "data": {
      "text/plain": [
       "(pandas.core.series.Series, 5)"
      ]
     },
     "execution_count": 3,
     "metadata": {},
     "output_type": "execute_result"
    }
   ],
   "source": [
    "# 타입, 길이 확인하기\n",
    "type(s1), len(s1)"
   ]
  },
  {
   "cell_type": "code",
   "execution_count": 4,
   "metadata": {},
   "outputs": [
    {
     "data": {
      "text/plain": [
       "(1, 1)"
      ]
     },
     "execution_count": 4,
     "metadata": {},
     "output_type": "execute_result"
    }
   ],
   "source": [
    "# 인덱싱\n",
    "s1['a'], s1[0]"
   ]
  },
  {
   "cell_type": "code",
   "execution_count": 6,
   "metadata": {},
   "outputs": [
    {
     "name": "stdout",
     "output_type": "stream",
     "text": [
      "a    1\n",
      "b    2\n",
      "c    3\n",
      "dtype: int64\n",
      "a    1\n",
      "b    2\n",
      "c    3\n",
      "dtype: int64\n",
      "a    1\n",
      "c    3\n",
      "e    5\n",
      "dtype: int64\n",
      "e    5\n",
      "d    4\n",
      "c    3\n",
      "b    2\n",
      "a    1\n",
      "dtype: int64\n",
      "a    1\n",
      "d    4\n",
      "dtype: int64\n"
     ]
    }
   ],
   "source": [
    "print(s1[:3]) # 3행까지의 출력\n",
    "print(s1['a':'c']) # a부터 c까지의 출력\n",
    "print(s1[::2]) # 2씩 건너서 춫력\n",
    "print(s1[::-1]) # 역순으로 출력\n",
    "print(s1[[0,3]]) # 0,3인덱스에 맞는 값 출력"
   ]
  },
  {
   "cell_type": "code",
   "execution_count": 7,
   "metadata": {},
   "outputs": [
    {
     "data": {
      "text/plain": [
       "array([10,  9,  8,  7,  6,  5,  4,  3,  2,  1])"
      ]
     },
     "execution_count": 7,
     "metadata": {},
     "output_type": "execute_result"
    }
   ],
   "source": [
    "# 넘파이 배열 => 시리즈\n",
    "matrix = np.arange(10, 0, -1)\n",
    "matrix"
   ]
  },
  {
   "cell_type": "code",
   "execution_count": 9,
   "metadata": {},
   "outputs": [
    {
     "data": {
      "text/plain": [
       "0    10\n",
       "1     9\n",
       "2     8\n",
       "3     7\n",
       "4     6\n",
       "5     5\n",
       "6     4\n",
       "7     3\n",
       "8     2\n",
       "9     1\n",
       "dtype: int32"
      ]
     },
     "execution_count": 9,
     "metadata": {},
     "output_type": "execute_result"
    }
   ],
   "source": [
    "# 딕셔너리는 키 값이 인덱스가 되었지만 시리즈형태는 숫자가 행의 인덱스\n",
    "s2 = pd.Series(matrix)\n",
    "s2"
   ]
  },
  {
   "cell_type": "code",
   "execution_count": 10,
   "metadata": {},
   "outputs": [
    {
     "data": {
      "text/plain": [
       "(10,\n",
       " 0    10\n",
       " 1     9\n",
       " 2     8\n",
       " 3     7\n",
       " 4     6\n",
       " dtype: int32)"
      ]
     },
     "execution_count": 10,
     "metadata": {},
     "output_type": "execute_result"
    }
   ],
   "source": [
    "s2[0], s2[0:5]"
   ]
  },
  {
   "cell_type": "code",
   "execution_count": 11,
   "metadata": {},
   "outputs": [
    {
     "data": {
      "text/plain": [
       "(55, 5.5, 5.5, 1, 10)"
      ]
     },
     "execution_count": 11,
     "metadata": {},
     "output_type": "execute_result"
    }
   ],
   "source": [
    "# 합계는 np.sum()함수\n",
    "# 평균은 np.mean()함수\n",
    "# 중앙값은 np.median()함수\n",
    "# 최솟값은 np.min()함수\n",
    "# 최대값은 np.max()함수\n",
    "np.sum(s2), np.mean(s2), np.median(s2), np.min(s2), np.max(s2)"
   ]
  },
  {
   "cell_type": "code",
   "execution_count": 12,
   "metadata": {},
   "outputs": [
    {
     "data": {
      "text/plain": [
       "('가', '나', True, 100, 3.14)"
      ]
     },
     "execution_count": 12,
     "metadata": {},
     "output_type": "execute_result"
    }
   ],
   "source": [
    "# 튜플 -> 시리즈 \n",
    "# 시리즈의 데이터형은 혼합형이 가능하다.\n",
    "# 전체 type을 찍어보면 object로 찍힌다.\n",
    "myTuple = ('가', '나', True, 100, 3.14)\n",
    "myTuple"
   ]
  },
  {
   "cell_type": "code",
   "execution_count": 14,
   "metadata": {},
   "outputs": [
    {
     "data": {
      "text/plain": [
       "0       가\n",
       "1       나\n",
       "2    True\n",
       "3     100\n",
       "4    3.14\n",
       "dtype: object"
      ]
     },
     "execution_count": 14,
     "metadata": {},
     "output_type": "execute_result"
    }
   ],
   "source": [
    "s3 = pd.Series(myTuple)\n",
    "s3"
   ]
  },
  {
   "cell_type": "markdown",
   "metadata": {},
   "source": [
    "## 시리즈 속성\n",
    "```\n",
    "dtype : 데이터형 확인\n",
    "values : 값만 넘파이배열 형태로 출력\n",
    "index : 시리즈의 인덱스값만 리스트 형태로 출력\n",
    "```"
   ]
  },
  {
   "cell_type": "code",
   "execution_count": 15,
   "metadata": {},
   "outputs": [
    {
     "data": {
      "text/plain": [
       "(dtype('O'),\n",
       " array(['가', '나', True, 100, 3.14], dtype=object),\n",
       " RangeIndex(start=0, stop=5, step=1))"
      ]
     },
     "execution_count": 15,
     "metadata": {},
     "output_type": "execute_result"
    }
   ],
   "source": [
    "# values는 안에 있는 값만 찍어주는 것\n",
    "s3.dtype, s3.values, s3.index"
   ]
  },
  {
   "cell_type": "code",
   "execution_count": 17,
   "metadata": {},
   "outputs": [
    {
     "data": {
      "text/plain": [
       "numpy.ndarray"
      ]
     },
     "execution_count": 17,
     "metadata": {},
     "output_type": "execute_result"
    }
   ],
   "source": [
    "type(s3.values)"
   ]
  },
  {
   "cell_type": "code",
   "execution_count": 18,
   "metadata": {},
   "outputs": [
    {
     "data": {
      "text/plain": [
       "Index(['a', 'b', 'c', 'd', 'e'], dtype='object')"
      ]
     },
     "execution_count": 18,
     "metadata": {},
     "output_type": "execute_result"
    }
   ],
   "source": [
    "s1.index"
   ]
  },
  {
   "cell_type": "markdown",
   "metadata": {},
   "source": [
    "## 인덱스 이름, 시리즈 이름 지정하기\n",
    "- 시리즈명.index.name = 인덱스이름\n",
    "- 시리즈명.name = 시리즈이름\n",
    "- 시리즈명.index = 리스트"
   ]
  },
  {
   "cell_type": "code",
   "execution_count": 19,
   "metadata": {},
   "outputs": [
    {
     "data": {
      "text/plain": [
       "Charles    35000\n",
       "Julia      71000\n",
       "Hayoung    16000\n",
       "Sangjae     5000\n",
       "Name: 보너스, dtype: int64"
      ]
     },
     "execution_count": 19,
     "metadata": {},
     "output_type": "execute_result"
    }
   ],
   "source": [
    "#제목이 하단에 지정된다.\n",
    "sdata = {\"Charles\": 35000, \"Julia\": 71000, \"Hayoung\": 16000, \"Sangjae\" :5000}\n",
    "s4 = pd.Series(sdata, name = \"보너스\")\n",
    "s4"
   ]
  },
  {
   "cell_type": "code",
   "execution_count": 20,
   "metadata": {},
   "outputs": [
    {
     "data": {
      "text/plain": [
       "회원\n",
       "Charles    35000\n",
       "Julia      71000\n",
       "Hayoung    16000\n",
       "Sangjae     5000\n",
       "Name: 보너스, dtype: int64"
      ]
     },
     "execution_count": 20,
     "metadata": {},
     "output_type": "execute_result"
    }
   ],
   "source": [
    "# 인덱스 이름은 밖에서 지정가능\n",
    "s4.index.name = '회원'\n",
    "s4"
   ]
  },
  {
   "cell_type": "code",
   "execution_count": 21,
   "metadata": {},
   "outputs": [
    {
     "data": {
      "text/plain": [
       "회원\n",
       "Charles    35000\n",
       "Julia      71000\n",
       "Hayoung    16000\n",
       "Sangjae     5000\n",
       "Name: 상여금, dtype: int64"
      ]
     },
     "execution_count": 21,
     "metadata": {},
     "output_type": "execute_result"
    }
   ],
   "source": [
    "s4.name = '상여금'\n",
    "s4"
   ]
  },
  {
   "cell_type": "code",
   "execution_count": 22,
   "metadata": {},
   "outputs": [
    {
     "data": {
      "text/plain": [
       "메뉴1       라면\n",
       "메뉴2      짜장면\n",
       "메뉴3       짬뽕\n",
       "메뉴4    로제떡볶이\n",
       "dtype: object"
      ]
     },
     "execution_count": 22,
     "metadata": {},
     "output_type": "execute_result"
    }
   ],
   "source": [
    "# 리스트 -> 시리즈\n",
    "# 인덱스명은 별도 설정\n",
    "myList = ['라면', '짜장면', '짬뽕', '로제떡볶이']\n",
    "s5 = pd.Series(myList, index=['메뉴1', '메뉴2', '메뉴3', '메뉴4'])\n",
    "s5"
   ]
  },
  {
   "cell_type": "code",
   "execution_count": 23,
   "metadata": {},
   "outputs": [
    {
     "data": {
      "text/plain": [
       "('짬뽕', '짬뽕')"
      ]
     },
     "execution_count": 23,
     "metadata": {},
     "output_type": "execute_result"
    }
   ],
   "source": [
    "s5['메뉴3'], s5[2]"
   ]
  },
  {
   "cell_type": "code",
   "execution_count": 26,
   "metadata": {},
   "outputs": [
    {
     "data": {
      "text/plain": [
       "(dict_keys(['a', 'b', 'c']), dict_keys, ['a', 'b', 'c'])"
      ]
     },
     "execution_count": 26,
     "metadata": {},
     "output_type": "execute_result"
    }
   ],
   "source": [
    "# quizd의 Key값 + quiz1의 데이터로 리스트를 생성하고 평균값 구하기\n",
    "quizd = {'a': 'apart', 'b': 'banana', 'c': 'cat'} #1)\n",
    "quiz1 = ['아파트', '바나나', '고양이'] #2)\n",
    "quizd.keys(), type(quizd.keys()), list(quizd.keys())"
   ]
  },
  {
   "cell_type": "code",
   "execution_count": 31,
   "metadata": {},
   "outputs": [
    {
     "data": {
      "text/plain": [
       "과목\n",
       "국어     90\n",
       "수학     80\n",
       "영어    100\n",
       "과학     55\n",
       "역사     70\n",
       "Name: 중간고사 성적표, dtype: int64"
      ]
     },
     "execution_count": 31,
     "metadata": {},
     "output_type": "execute_result"
    }
   ],
   "source": [
    "quiz2 = {'국어': 90, '수학': 80, '영어':100, '과학':55, '역사': 70}\n",
    "\n",
    "quiz2=pd.Series(quiz2, name = \"중간고사 성적표\")\n",
    "quiz2.index.name = '과목'\n",
    "quiz2"
   ]
  },
  {
   "cell_type": "code",
   "execution_count": null,
   "metadata": {},
   "outputs": [],
   "source": []
  },
  {
   "cell_type": "code",
   "execution_count": null,
   "metadata": {},
   "outputs": [],
   "source": []
  },
  {
   "cell_type": "code",
   "execution_count": null,
   "metadata": {},
   "outputs": [],
   "source": []
  },
  {
   "cell_type": "code",
   "execution_count": null,
   "metadata": {},
   "outputs": [],
   "source": []
  },
  {
   "cell_type": "code",
   "execution_count": null,
   "metadata": {},
   "outputs": [],
   "source": []
  }
 ],
 "metadata": {
  "interpreter": {
   "hash": "04e7f2769c1631b84125f1e6ade537573267c83712f7cd43d7129a2cc5345ab8"
  },
  "kernelspec": {
   "display_name": "Python 3.7.12 ('lima')",
   "language": "python",
   "name": "python3"
  },
  "language_info": {
   "codemirror_mode": {
    "name": "ipython",
    "version": 3
   },
   "file_extension": ".py",
   "mimetype": "text/x-python",
   "name": "python",
   "nbconvert_exporter": "python",
   "pygments_lexer": "ipython3",
   "version": "3.7.12"
  },
  "orig_nbformat": 4
 },
 "nbformat": 4,
 "nbformat_minor": 2
}
