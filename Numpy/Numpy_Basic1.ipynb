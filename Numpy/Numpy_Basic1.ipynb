{
 "cells": [
  {
   "cell_type": "markdown",
   "metadata": {},
   "source": [
    "# 넘파이 배열 생성 \n",
    "\n",
    "```\n",
    "np.array(리스트)\n",
    "ndim : 차원반환(int)\n",
    "size : 전체 길이 반환(int)\n",
    "shape : 구조 반환(tuple)\n",
    "```"
   ]
  },
  {
   "cell_type": "code",
   "execution_count": 3,
   "metadata": {},
   "outputs": [],
   "source": [
    "import numpy as np"
   ]
  },
  {
   "cell_type": "code",
   "execution_count": 1,
   "metadata": {},
   "outputs": [
    {
     "name": "stdout",
     "output_type": "stream",
     "text": [
      "[10, 56, 77, 23, 44] <class 'list'> 5\n"
     ]
    }
   ],
   "source": [
    "# 1차원 리스트 \n",
    "myList = [10, 56, 77, 23, 44]\n",
    "print(myList, type(myList), len(myList))"
   ]
  },
  {
   "cell_type": "code",
   "execution_count": 8,
   "metadata": {},
   "outputs": [
    {
     "name": "stdout",
     "output_type": "stream",
     "text": [
      "[10 56 77 23 44] <class 'numpy.ndarray'> 5\n",
      "차원은? 1\n",
      "구조는? (5,), <class 'tuple'>\n",
      "길이는? 5\n"
     ]
    },
    {
     "data": {
      "text/plain": [
       "array([10, 56, 77, 23, 44])"
      ]
     },
     "execution_count": 8,
     "metadata": {},
     "output_type": "execute_result"
    }
   ],
   "source": [
    "myArr = np.array(myList)\n",
    "print(myArr, type(myArr), len(myArr))\n",
    "print(f'차원은? {myArr.ndim}')\n",
    "print(f'구조는? {myArr.shape}, {type(myArr.shape)}') # 행렬이 아닌 렬행으로 보기\n",
    "print(f'길이는? {myArr.size}') # 갯수\n",
    "myArr"
   ]
  },
  {
   "cell_type": "code",
   "execution_count": 9,
   "metadata": {},
   "outputs": [
    {
     "data": {
      "text/plain": [
       "[[1, 2, 3], [10, 20, 30], [100, 200, 300]]"
      ]
     },
     "execution_count": 9,
     "metadata": {},
     "output_type": "execute_result"
    }
   ],
   "source": [
    "# 2차원 리스트 => 넘파이 배열\n",
    "myList2 = [[1,2,3], [10,20,30], [100, 200, 300]]\n",
    "myList2"
   ]
  },
  {
   "cell_type": "code",
   "execution_count": 10,
   "metadata": {},
   "outputs": [
    {
     "name": "stdout",
     "output_type": "stream",
     "text": [
      "[[  1   2   3]\n",
      " [ 10  20  30]\n",
      " [100 200 300]] <class 'numpy.ndarray'> 3\n",
      "차원은? 2\n",
      "구조는? (3, 3), <class 'tuple'>\n",
      "길이는? 9\n",
      "넘파이 배열은? 3 행 3열\n"
     ]
    }
   ],
   "source": [
    "myArr2 = np.array(myList2)\n",
    "# len() 결과값이 2차원인 경우에는 행의수로 출력\n",
    "print(myArr2, type(myArr2), len(myArr2))\n",
    "print(f'차원은? {myArr2.ndim}') # 2차원 \n",
    "print(f'구조는? {myArr2.shape}, {type(myArr2.shape)}') # 3,3의 2차원 구조\n",
    "print(f'길이는? {myArr2.size}') # 9개의 원소\n",
    "print(f'넘파이 배열은? {myArr2.shape[0]} 행 {myArr2.shape[1]}열')"
   ]
  },
  {
   "cell_type": "code",
   "execution_count": 11,
   "metadata": {},
   "outputs": [
    {
     "data": {
      "text/plain": [
       "([[1, 2], [10, 20, 30], [100, 200, 300, 400, 500]], 3)"
      ]
     },
     "execution_count": 11,
     "metadata": {},
     "output_type": "execute_result"
    }
   ],
   "source": [
    "# 2차원 리스트에서 각 행 수가 틀린 경우 테스트하기\n",
    "# 넘파이 배열은?? \n",
    "myList3 = [[1,2], [10,20,30], [100,200,300,400,500]]\n",
    "myList3, len(myList3)"
   ]
  },
  {
   "cell_type": "code",
   "execution_count": 12,
   "metadata": {},
   "outputs": [
    {
     "name": "stderr",
     "output_type": "stream",
     "text": [
      "C:\\Users\\TFG5076XG\\anaconda3\\envs\\lima\\lib\\site-packages\\ipykernel_launcher.py:3: VisibleDeprecationWarning: Creating an ndarray from ragged nested sequences (which is a list-or-tuple of lists-or-tuples-or ndarrays with different lengths or shapes) is deprecated. If you meant to do this, you must specify 'dtype=object' when creating the ndarray.\n",
      "  This is separate from the ipykernel package so we can avoid doing imports until\n"
     ]
    },
    {
     "data": {
      "text/plain": [
       "array([list([1, 2]), list([10, 20, 30]), list([100, 200, 300, 400, 500])],\n",
       "      dtype=object)"
      ]
     },
     "execution_count": 12,
     "metadata": {},
     "output_type": "execute_result"
    }
   ],
   "source": [
    "#각행의 갯수가 틀린 경우 넘파이 배열로 생성하면 \n",
    "# list([값...]) 형태로 삽입된다. 넘파이 배열 형태로 변환하려면 행의 갯수 맞추기 \n",
    "myArr3 = np.array(myList3)\n",
    "myArr3"
   ]
  },
  {
   "cell_type": "markdown",
   "metadata": {},
   "source": [
    "#리스트"
   ]
  },
  {
   "cell_type": "code",
   "execution_count": 13,
   "metadata": {},
   "outputs": [
    {
     "data": {
      "text/plain": [
       "[10, 40, 50, 10, 40, 50]"
      ]
     },
     "execution_count": 13,
     "metadata": {},
     "output_type": "execute_result"
    }
   ],
   "source": [
    "# 넘파이 배열과 다르게 연산이 가능(산술연산)\n",
    "listA = [10, 40, 50]\n",
    "listB = [10, 40, 50]\n",
    "# +인 경우 리스트간의 연결\n",
    "listA + listB"
   ]
  },
  {
   "cell_type": "code",
   "execution_count": 14,
   "metadata": {},
   "outputs": [
    {
     "data": {
      "text/plain": [
       "[10, 40, 50, 10, 40, 50]"
      ]
     },
     "execution_count": 14,
     "metadata": {},
     "output_type": "execute_result"
    }
   ],
   "source": [
    "#리스트의 경우 *\n",
    "#list * list의 경우에는 에러 발생(type에러)\n",
    "listA * 2   #2번반복한다는 의미"
   ]
  },
  {
   "cell_type": "code",
   "execution_count": 15,
   "metadata": {},
   "outputs": [
    {
     "name": "stdout",
     "output_type": "stream",
     "text": [
      "[15 44 53]\n",
      "[ 5 36 47]\n",
      "[ 50 160 150]\n",
      "[ 2.         10.         16.66666667]\n",
      "[ 2 10 16]\n",
      "[0 0 2]\n"
     ]
    }
   ],
   "source": [
    "#넘파이 배열 간의 연산\n",
    "#각 위치에 해당하는 요소간의 연산 차원, 갯수가 똑같아야함 \n",
    "arrA = np.array([10, 40, 50])\n",
    "arrB = np.array([5, 4, 3])\n",
    "print(arrA + arrB)\n",
    "print(arrA - arrB)\n",
    "print(arrA * arrB)\n",
    "print(arrA / arrB)\n",
    "print(arrA // arrB)\n",
    "print(arrA % arrB)"
   ]
  },
  {
   "cell_type": "code",
   "execution_count": 16,
   "metadata": {},
   "outputs": [
    {
     "name": "stdout",
     "output_type": "stream",
     "text": [
      "[10 40 50]\n",
      "[ 20  80 100]\n",
      "[ 3 13 16]\n"
     ]
    }
   ],
   "source": [
    "#브로드캐스팅 \n",
    "# 넘파이 배열 연산자 숫자가 들어감 \n",
    "arrA #만약 arrA가 리스트라면 반복이 되겠지만 numpy배열로써 각각의 값에 2배\n",
    "print(arrA)\n",
    "print(arrA * 2)\n",
    "print(arrA //3)"
   ]
  },
  {
   "cell_type": "code",
   "execution_count": 17,
   "metadata": {},
   "outputs": [
    {
     "data": {
      "text/plain": [
       "(['홍길동', 100, 3.14, True, False], list)"
      ]
     },
     "execution_count": 17,
     "metadata": {},
     "output_type": "execute_result"
    }
   ],
   "source": [
    "#리스트와 넘파이배열의 자료형 테스트\n",
    "myList_c = ['홍길동', 100, 3.14, True, False]\n",
    "#문자형, 정수, 실수, 논리형\n",
    "myList_c, type(myList_c)#리스트라고 반환이 된다. 형이 그대로 유지된다,"
   ]
  },
  {
   "cell_type": "code",
   "execution_count": 18,
   "metadata": {},
   "outputs": [
    {
     "data": {
      "text/plain": [
       "(array(['홍길동', '100', '3.14', 'True', 'False'], dtype='<U32'),\n",
       " numpy.ndarray,\n",
       " dtype('<U32'))"
      ]
     },
     "execution_count": 18,
     "metadata": {},
     "output_type": "execute_result"
    }
   ],
   "source": [
    "#넘파이 배열의 구성 요소의 자료형 확인은?\n",
    "#넘파이 배열명.dtype\n",
    "#넘파이 배열은 1개의 형만 가지고 있으므로 데이터가 혼합되어 있는 경우 자동형변환이 이루어진다.\n",
    "# 형태가 문자형으로 찍힌다. 문자열이 가장 큰 자료형으로써 문자열을 출력 \n",
    "myArr_c = np.array(['홍길동', 100, 3.14, True, False])\n",
    "myArr_c, type(myArr_c), myArr_c.dtype\n"
   ]
  },
  {
   "cell_type": "code",
   "execution_count": 19,
   "metadata": {},
   "outputs": [
    {
     "data": {
      "text/plain": [
       "(array([100.  ,   3.14,  23.5 ,   0.  ]), numpy.ndarray, dtype('float64'))"
      ]
     },
     "execution_count": 19,
     "metadata": {},
     "output_type": "execute_result"
    }
   ],
   "source": [
    "# 정수랑 실수 혼합된 넘파이 배열 생성\n",
    "#int와 float2가지가 혼용되어 있는데 float형식으로 변경됨\n",
    "myArr_d = np.array([100, 3.14, 23.5 ,0]) \n",
    "myArr_d, type(myArr_d), myArr_d.dtype"
   ]
  },
  {
   "cell_type": "code",
   "execution_count": 20,
   "metadata": {},
   "outputs": [
    {
     "name": "stdout",
     "output_type": "stream",
     "text": [
      "배열의 모든합은? 126.64\n",
      "배열의 평균은? 31.66\n",
      "배열의 중앙값은? 13.32\n",
      "배열의 최대값은? 100.0\n",
      "배열의 최소값은? 0.0\n"
     ]
    }
   ],
   "source": [
    "# 통계함수 적용하기\n",
    "# my_Arr_d = 100, 3.14, 23.5, 0\n",
    "# sum, mean, median, max, min\n",
    "print(f'배열의 모든합은? {np.sum(myArr_d)}')\n",
    "print(f'배열의 평균은? {np.mean(myArr_d)}')\n",
    "print(f'배열의 중앙값은? {np.median(myArr_d)}')\n",
    "print(f'배열의 최대값은? {np.max(myArr_d)}')\n",
    "print(f'배열의 최소값은? {np.min(myArr_d)}')"
   ]
  },
  {
   "cell_type": "markdown",
   "metadata": {},
   "source": [
    "# Numpy에서 제공하는 함수들 \n",
    "\n",
    "```\n",
    "np.ones(n), np.ones((x,y))\n",
    "np.zeros(n), np.zeros((x,y))\n",
    "np.empty(n), np.empty((x,y))\n",
    "np.arange(start, end, step)\n",
    "\n",
    "1차원에서 2차원으로 변경할 때 사용\n",
    "reshape(x,y)\n",
    "2차원에서 1차원으로 변경할 때 사용\n",
    "flatten()\n",
    "```"
   ]
  },
  {
   "cell_type": "code",
   "execution_count": 15,
   "metadata": {},
   "outputs": [
    {
     "name": "stdout",
     "output_type": "stream",
     "text": [
      "[1. 1. 1. 1. 1. 1. 1. 1. 1. 1.]\n"
     ]
    },
    {
     "data": {
      "text/plain": [
       "dtype('float64')"
      ]
     },
     "execution_count": 15,
     "metadata": {},
     "output_type": "execute_result"
    }
   ],
   "source": [
    "# 값이 1로 구성된 numpy 배열 생성\n",
    "arr1 = np.ones(10)\n",
    "# 기본값이 float 1.으로 만들어진다.\n",
    "print(arr1)\n",
    "arr1.dtype"
   ]
  },
  {
   "cell_type": "code",
   "execution_count": 25,
   "metadata": {},
   "outputs": [
    {
     "data": {
      "text/plain": [
       "(array([1, 1, 1, 1, 1, 1, 1, 1, 1, 1]), dtype('int32'))"
      ]
     },
     "execution_count": 25,
     "metadata": {},
     "output_type": "execute_result"
    }
   ],
   "source": [
    "# 1로 구성된 넘파이 배열 생성 => 정수형\n",
    "arr2 = np.ones(10, dtype = int)\n",
    "arr2, arr2.dtype"
   ]
  },
  {
   "cell_type": "code",
   "execution_count": 26,
   "metadata": {},
   "outputs": [
    {
     "data": {
      "text/plain": [
       "(array([[1, 1],\n",
       "        [1, 1],\n",
       "        [1, 1],\n",
       "        [1, 1],\n",
       "        [1, 1]]),\n",
       " dtype('int32'),\n",
       " (5, 2))"
      ]
     },
     "execution_count": 26,
     "metadata": {},
     "output_type": "execute_result"
    }
   ],
   "source": [
    "# 1로 구성된 5행 2열 배열 생성 =>\n",
    "arr3 = np.ones((5,2), dtype= int)\n",
    "arr3, arr3.dtype, arr3.shape"
   ]
  },
  {
   "cell_type": "code",
   "execution_count": 27,
   "metadata": {},
   "outputs": [
    {
     "data": {
      "text/plain": [
       "array([[0, 0, 0],\n",
       "       [0, 0, 0],\n",
       "       [0, 0, 0]])"
      ]
     },
     "execution_count": 27,
     "metadata": {},
     "output_type": "execute_result"
    }
   ],
   "source": [
    "# 3행 3열 0으로 구성된 넘파이 배열\n",
    "np.array([[0,0,0], [0,0,0], [0,0,0]])"
   ]
  },
  {
   "cell_type": "code",
   "execution_count": 28,
   "metadata": {},
   "outputs": [
    {
     "data": {
      "text/plain": [
       "array([[0, 0, 0],\n",
       "       [0, 0, 0],\n",
       "       [0, 0, 0]])"
      ]
     },
     "execution_count": 28,
     "metadata": {},
     "output_type": "execute_result"
    }
   ],
   "source": [
    "# 좀더 쉬운 방법으로 3행 3열 넘파이 배열 만들기\n",
    "np.zeros((3,3), dtype= int)"
   ]
  },
  {
   "cell_type": "code",
   "execution_count": 29,
   "metadata": {},
   "outputs": [
    {
     "data": {
      "text/plain": [
       "array([[0., 0., 0.],\n",
       "       [0., 0., 0.],\n",
       "       [0., 0., 0.]])"
      ]
     },
     "execution_count": 29,
     "metadata": {},
     "output_type": "execute_result"
    }
   ],
   "source": [
    "np.empty((3,3))"
   ]
  },
  {
   "cell_type": "code",
   "execution_count": 30,
   "metadata": {},
   "outputs": [
    {
     "data": {
      "text/plain": [
       "array([[ 0,  1,  2,  3,  4],\n",
       "       [ 5,  6,  7,  8,  9],\n",
       "       [10, 11, 12, 13, 14],\n",
       "       [15, 16, 17, 18, 19]])"
      ]
     },
     "execution_count": 30,
     "metadata": {},
     "output_type": "execute_result"
    }
   ],
   "source": [
    "np.arange(20).reshape(4,5)"
   ]
  },
  {
   "cell_type": "code",
   "execution_count": 31,
   "metadata": {},
   "outputs": [
    {
     "data": {
      "text/plain": [
       "array([ 1,  2,  3,  4,  5,  6,  7,  8,  9, 10, 11, 12, 13, 14, 15, 16, 17,\n",
       "       18, 19, 20])"
      ]
     },
     "execution_count": 31,
     "metadata": {},
     "output_type": "execute_result"
    }
   ],
   "source": [
    "# 1행 21열 nparray 배열 만들기\n",
    "np.array(list(range(1,21)))"
   ]
  },
  {
   "cell_type": "code",
   "execution_count": 32,
   "metadata": {},
   "outputs": [
    {
     "name": "stdout",
     "output_type": "stream",
     "text": [
      "range(1, 21) [1, 2, 3, 4, 5, 6, 7, 8, 9, 10, 11, 12, 13, 14, 15, 16, 17, 18, 19, 20]\n",
      "[ 1  2  3  4  5  6  7  8  9 10 11 12 13 14 15 16 17 18 19 20]\n",
      "==============================\n"
     ]
    },
    {
     "data": {
      "text/plain": [
       "array([[ 1,  2,  3,  4,  5],\n",
       "       [ 6,  7,  8,  9, 10],\n",
       "       [11, 12, 13, 14, 15],\n",
       "       [16, 17, 18, 19, 20]])"
      ]
     },
     "execution_count": 32,
     "metadata": {},
     "output_type": "execute_result"
    }
   ],
   "source": [
    "# range 객체 => 리스트화 list(range()) => 넘파이 배열화\n",
    "print(range(1,21), list(range(1,21)))\n",
    "print(np.array(list(range(1,21))))\n",
    "print('=' * 30)\n",
    "arr6 = np.arange(1,21).reshape(4,5)\n",
    "arr6"
   ]
  },
  {
   "cell_type": "code",
   "execution_count": 5,
   "metadata": {},
   "outputs": [
    {
     "name": "stdout",
     "output_type": "stream",
     "text": [
      "[[ 0  1  2  3  4]\n",
      " [ 5  6  7  8  9]\n",
      " [10 11 12 13 14]\n",
      " [15 16 17 18 19]\n",
      " [20 21 22 23 24]\n",
      " [25 26 27 28 29]\n",
      " [30 31 32 33 34]\n",
      " [35 36 37 38 39]\n",
      " [40 41 42 43 44]\n",
      " [45 46 47 48 49]]\n"
     ]
    }
   ],
   "source": [
    "arr7 = np.arange(50)\n",
    "print(arr7.reshape(10, 5))"
   ]
  },
  {
   "cell_type": "code",
   "execution_count": 6,
   "metadata": {},
   "outputs": [
    {
     "name": "stdout",
     "output_type": "stream",
     "text": [
      "[[ 0  1  2  3  4  5  6  7  8  9]\n",
      " [10 11 12 13 14 15 16 17 18 19]\n",
      " [20 21 22 23 24 25 26 27 28 29]\n",
      " [30 31 32 33 34 35 36 37 38 39]\n",
      " [40 41 42 43 44 45 46 47 48 49]]\n"
     ]
    }
   ],
   "source": [
    "# 2차원에서 2차원도 변경 가능 \n",
    "arr8 = arr7.reshape(5,10)\n",
    "print(arr8)"
   ]
  },
  {
   "cell_type": "code",
   "execution_count": 7,
   "metadata": {},
   "outputs": [
    {
     "data": {
      "text/plain": [
       "(2, (5, 10))"
      ]
     },
     "execution_count": 7,
     "metadata": {},
     "output_type": "execute_result"
    }
   ],
   "source": [
    "#2차원 => 1차원으로 변경\n",
    "arr8.ndim, arr8.shape"
   ]
  },
  {
   "cell_type": "code",
   "execution_count": 8,
   "metadata": {},
   "outputs": [
    {
     "data": {
      "text/plain": [
       "array([ 0,  1,  2,  3,  4,  5,  6,  7,  8,  9, 10, 11, 12, 13, 14, 15, 16,\n",
       "       17, 18, 19, 20, 21, 22, 23, 24, 25, 26, 27, 28, 29, 30, 31, 32, 33,\n",
       "       34, 35, 36, 37, 38, 39, 40, 41, 42, 43, 44, 45, 46, 47, 48, 49])"
      ]
     },
     "execution_count": 8,
     "metadata": {},
     "output_type": "execute_result"
    }
   ],
   "source": [
    "# faltten()을 사용하면 1차원으로 변경 가능\n",
    "# flatten은 1차원으로 변경하는 함수\n",
    "arr8.flatten()"
   ]
  },
  {
   "cell_type": "code",
   "execution_count": 9,
   "metadata": {},
   "outputs": [
    {
     "data": {
      "text/plain": [
       "array([  0,   2,   4,   6,   8,  10,  12,  14,  16,  18,  20,  22,  24,\n",
       "        26,  28,  30,  32,  34,  36,  38,  40,  42,  44,  46,  48,  50,\n",
       "        52,  54,  56,  58,  60,  62,  64,  66,  68,  70,  72,  74,  76,\n",
       "        78,  80,  82,  84,  86,  88,  90,  92,  94,  96,  98, 100])"
      ]
     },
     "execution_count": 9,
     "metadata": {},
     "output_type": "execute_result"
    }
   ],
   "source": [
    "# 기본적으로 arange문법 = np.arange(start, end, step)\n",
    "# 1 ~ 100사이의 숫자로 만드는데 짝수로된 넘파이 배열 생성\n",
    "np.arange(0, 101, 2)"
   ]
  },
  {
   "cell_type": "code",
   "execution_count": 13,
   "metadata": {},
   "outputs": [
    {
     "data": {
      "text/plain": [
       "(array([[ 1,  3],\n",
       "        [ 5,  7],\n",
       "        [ 9, 11],\n",
       "        [13, 15],\n",
       "        [17, 19],\n",
       "        [21, 23],\n",
       "        [25, 27],\n",
       "        [29, 31],\n",
       "        [33, 35],\n",
       "        [37, 39],\n",
       "        [41, 43],\n",
       "        [45, 47],\n",
       "        [49, 51],\n",
       "        [53, 55],\n",
       "        [57, 59],\n",
       "        [61, 63],\n",
       "        [65, 67],\n",
       "        [69, 71],\n",
       "        [73, 75],\n",
       "        [77, 79],\n",
       "        [81, 83],\n",
       "        [85, 87],\n",
       "        [89, 91],\n",
       "        [93, 95],\n",
       "        [97, 99]]),\n",
       " 50)"
      ]
     },
     "execution_count": 13,
     "metadata": {},
     "output_type": "execute_result"
    }
   ],
   "source": [
    "# 홀수로 넘파이 배열 생성 \n",
    "np.arange(1, 100, 2).reshape(25, 2), len(np.arange(1,100,2))"
   ]
  },
  {
   "cell_type": "code",
   "execution_count": 16,
   "metadata": {},
   "outputs": [
    {
     "data": {
      "text/plain": [
       "(array([ 1,  2,  3,  4,  5,  6,  7,  8,  9, 10, 11, 12, 13, 14, 15, 16, 17,\n",
       "        18, 19, 20, 21, 22, 23, 24, 25, 26, 27, 28, 29, 30]),\n",
       " 1)"
      ]
     },
     "execution_count": 16,
     "metadata": {},
     "output_type": "execute_result"
    }
   ],
   "source": [
    "arr11 = np.arange(1, 31)\n",
    "arr11, arr1.ndim # 1차원으로 만들어짐, reshape에 가끔 -1이 들어가는 경우가 발생"
   ]
  },
  {
   "cell_type": "code",
   "execution_count": 17,
   "metadata": {},
   "outputs": [
    {
     "data": {
      "text/plain": [
       "(array([[ 1],\n",
       "        [ 2],\n",
       "        [ 3],\n",
       "        [ 4],\n",
       "        [ 5],\n",
       "        [ 6],\n",
       "        [ 7],\n",
       "        [ 8],\n",
       "        [ 9],\n",
       "        [10],\n",
       "        [11],\n",
       "        [12],\n",
       "        [13],\n",
       "        [14],\n",
       "        [15],\n",
       "        [16],\n",
       "        [17],\n",
       "        [18],\n",
       "        [19],\n",
       "        [20],\n",
       "        [21],\n",
       "        [22],\n",
       "        [23],\n",
       "        [24],\n",
       "        [25],\n",
       "        [26],\n",
       "        [27],\n",
       "        [28],\n",
       "        [29],\n",
       "        [30]]),\n",
       " 2)"
      ]
     },
     "execution_count": 17,
     "metadata": {},
     "output_type": "execute_result"
    }
   ],
   "source": [
    "arr12 = arr11.reshape(30,1)\n",
    "arr12, arr12.ndim"
   ]
  },
  {
   "cell_type": "code",
   "execution_count": 18,
   "metadata": {},
   "outputs": [
    {
     "data": {
      "text/plain": [
       "(array([[ 1],\n",
       "        [ 2],\n",
       "        [ 3],\n",
       "        [ 4],\n",
       "        [ 5],\n",
       "        [ 6],\n",
       "        [ 7],\n",
       "        [ 8],\n",
       "        [ 9],\n",
       "        [10],\n",
       "        [11],\n",
       "        [12],\n",
       "        [13],\n",
       "        [14],\n",
       "        [15],\n",
       "        [16],\n",
       "        [17],\n",
       "        [18],\n",
       "        [19],\n",
       "        [20],\n",
       "        [21],\n",
       "        [22],\n",
       "        [23],\n",
       "        [24],\n",
       "        [25],\n",
       "        [26],\n",
       "        [27],\n",
       "        [28],\n",
       "        [29],\n",
       "        [30]]),\n",
       " 2)"
      ]
     },
     "execution_count": 18,
     "metadata": {},
     "output_type": "execute_result"
    }
   ],
   "source": [
    "# 1차원의 데이터인데 2차원으로 만드는 경우는 reshape에 음수를 넣어서 컬럼을 제거한다.\n",
    "# reshape(-1, n) => 첫번째를 -1로 하면 2차원을 만들고 n개의 컬럼을 갖는다.\n",
    "arr12 = arr11.reshape(-1,1)\n",
    "arr12, arr12.ndim"
   ]
  },
  {
   "cell_type": "code",
   "execution_count": 19,
   "metadata": {},
   "outputs": [
    {
     "data": {
      "text/plain": [
       "(array([[ 1,  2],\n",
       "        [ 3,  4],\n",
       "        [ 5,  6],\n",
       "        [ 7,  8],\n",
       "        [ 9, 10],\n",
       "        [11, 12],\n",
       "        [13, 14],\n",
       "        [15, 16],\n",
       "        [17, 18],\n",
       "        [19, 20],\n",
       "        [21, 22],\n",
       "        [23, 24],\n",
       "        [25, 26],\n",
       "        [27, 28],\n",
       "        [29, 30]]),\n",
       " 2)"
      ]
     },
     "execution_count": 19,
     "metadata": {},
     "output_type": "execute_result"
    }
   ],
   "source": [
    "# 2차원 배열에 2개의 컬럼\n",
    "arr12 = arr11.reshape(-1, 2)\n",
    "arr12, arr12.ndim"
   ]
  },
  {
   "cell_type": "code",
   "execution_count": 20,
   "metadata": {},
   "outputs": [
    {
     "data": {
      "text/plain": [
       "array([[ 1,  2,  3,  4],\n",
       "       [ 5,  6,  7,  8],\n",
       "       [ 9, 10, 11, 12],\n",
       "       [13, 14, 15, 16],\n",
       "       [17, 18, 19, 20]])"
      ]
     },
     "execution_count": 20,
     "metadata": {},
     "output_type": "execute_result"
    }
   ],
   "source": [
    "# 1, 20의 배열을 2차원의 4컬럼형태로 만들기\n",
    "np.arange(1,21).reshape(-1, 4)"
   ]
  },
  {
   "cell_type": "code",
   "execution_count": 21,
   "metadata": {},
   "outputs": [
    {
     "data": {
      "text/plain": [
       "array([[ 1,  2],\n",
       "       [ 3,  4],\n",
       "       [ 5,  6],\n",
       "       [ 7,  8],\n",
       "       [ 9, 10],\n",
       "       [11, 12],\n",
       "       [13, 14],\n",
       "       [15, 16],\n",
       "       [17, 18],\n",
       "       [19, 20]])"
      ]
     },
     "execution_count": 21,
     "metadata": {},
     "output_type": "execute_result"
    }
   ],
   "source": [
    "np.arange(1,21).reshape(-1,2)"
   ]
  }
 ],
 "metadata": {
  "interpreter": {
   "hash": "04e7f2769c1631b84125f1e6ade537573267c83712f7cd43d7129a2cc5345ab8"
  },
  "kernelspec": {
   "display_name": "Python 3.7.12 ('lima')",
   "language": "python",
   "name": "python3"
  },
  "language_info": {
   "codemirror_mode": {
    "name": "ipython",
    "version": 3
   },
   "file_extension": ".py",
   "mimetype": "text/x-python",
   "name": "python",
   "nbconvert_exporter": "python",
   "pygments_lexer": "ipython3",
   "version": "3.7.12"
  },
  "orig_nbformat": 4
 },
 "nbformat": 4,
 "nbformat_minor": 2
}
