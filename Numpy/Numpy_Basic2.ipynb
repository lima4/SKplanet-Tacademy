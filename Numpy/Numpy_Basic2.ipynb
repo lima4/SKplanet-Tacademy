{
 "cells": [
  {
   "cell_type": "markdown",
   "metadata": {},
   "source": [
    "# 넘파이 배열의 자료형 지정하기\n",
    "```\n",
    "배열명2 = 배열명1.astype(자료형)\n",
    "자료형 = np.float64, np.int32\n",
    "```"
   ]
  },
  {
   "cell_type": "code",
   "execution_count": 1,
   "metadata": {},
   "outputs": [],
   "source": [
    "import numpy as np"
   ]
  },
  {
   "cell_type": "code",
   "execution_count": 2,
   "metadata": {},
   "outputs": [
    {
     "data": {
      "text/plain": [
       "(array([[1, 2, 3],\n",
       "        [4, 5, 6],\n",
       "        [7, 8, 9]]),\n",
       " dtype('int32'))"
      ]
     },
     "execution_count": 2,
     "metadata": {},
     "output_type": "execute_result"
    }
   ],
   "source": [
    "# 정수형 3행 3열 만들기\n",
    "matrix = np.arange(1, 10).reshape(3,3)\n",
    "matrix, matrix.dtype"
   ]
  },
  {
   "cell_type": "code",
   "execution_count": 3,
   "metadata": {},
   "outputs": [
    {
     "data": {
      "text/plain": [
       "(array([[1., 2., 3.],\n",
       "        [4., 5., 6.],\n",
       "        [7., 8., 9.]]),\n",
       " dtype('float64'))"
      ]
     },
     "execution_count": 3,
     "metadata": {},
     "output_type": "execute_result"
    }
   ],
   "source": [
    "# 실수형 3행 3열 만들기\n",
    "matrix = np.arange(1, 10, dtype=float).reshape(3,3)\n",
    "matrix, matrix.dtype"
   ]
  },
  {
   "cell_type": "code",
   "execution_count": 5,
   "metadata": {},
   "outputs": [
    {
     "data": {
      "text/plain": [
       "array([['1', '2', '3'],\n",
       "       ['4', '5', '6'],\n",
       "       ['7', '8', '9']], dtype='<U5')"
      ]
     },
     "execution_count": 5,
     "metadata": {},
     "output_type": "execute_result"
    }
   ],
   "source": [
    "# 문자열형 3행 3열 만들기\n",
    "# astype('<U5')를 통해서 정수형 만들기\n",
    "matrix= np.arange(1,10).reshape(3,3).astype('<U5')\n",
    "matrix"
   ]
  },
  {
   "cell_type": "code",
   "execution_count": 6,
   "metadata": {},
   "outputs": [
    {
     "data": {
      "text/plain": [
       "(array([ True, False,  True,  True, False]), dtype('bool'))"
      ]
     },
     "execution_count": 6,
     "metadata": {},
     "output_type": "execute_result"
    }
   ],
   "source": [
    "# 논리형으로 구성된 넘파이 배열 생성\n",
    "matrix2 = np.array([True, False, True, True, False])\n",
    "matrix2, matrix2.dtype"
   ]
  },
  {
   "cell_type": "code",
   "execution_count": 7,
   "metadata": {},
   "outputs": [
    {
     "data": {
      "text/plain": [
       "array([1, 0, 1, 1, 0])"
      ]
     },
     "execution_count": 7,
     "metadata": {},
     "output_type": "execute_result"
    }
   ],
   "source": [
    "# 논리형에서 정수형으로 변환 True = 1, False = 0\n",
    "matrix2.astype(int)"
   ]
  },
  {
   "cell_type": "code",
   "execution_count": 8,
   "metadata": {},
   "outputs": [
    {
     "data": {
      "text/plain": [
       "array(['True', 'False', 'True', 'True', 'False'], dtype='<U5')"
      ]
     },
     "execution_count": 8,
     "metadata": {},
     "output_type": "execute_result"
    }
   ],
   "source": [
    "# 정수형에서 문자형으로 변환 ''안에 True, False\n",
    "matrix2.astype('U5')"
   ]
  },
  {
   "cell_type": "code",
   "execution_count": 10,
   "metadata": {},
   "outputs": [
    {
     "data": {
      "text/plain": [
       "(array([3.14, 5.5 , 0.78]), dtype('float64'))"
      ]
     },
     "execution_count": 10,
     "metadata": {},
     "output_type": "execute_result"
    }
   ],
   "source": [
    "# 문자열 숫자 => 일반 정수나 실수형으로 변환하기\n",
    "matrix3 = np.array(['3.14', '5.5', '0.78'])\n",
    "matrix3.astype(float), matrix3.astype(float).dtype"
   ]
  },
  {
   "cell_type": "code",
   "execution_count": 11,
   "metadata": {},
   "outputs": [
    {
     "data": {
      "text/plain": [
       "array([3, 5, 0])"
      ]
     },
     "execution_count": 11,
     "metadata": {},
     "output_type": "execute_result"
    }
   ],
   "source": [
    "matrix4 = np.array(['3', '5', '0'])\n",
    "matrix4.astype(int)"
   ]
  },
  {
   "cell_type": "markdown",
   "metadata": {},
   "source": [
    "# 넘파이 배열의 인덱싱\n",
    "\n",
    "```\n",
    "넘파이 배열명[Index]\n",
    "\n",
    "넘파이 배열명 [i,j] => i행 j열\n",
    "넘파이 배열명 [i][j] => i행 j열\n",
    "```"
   ]
  },
  {
   "cell_type": "code",
   "execution_count": 15,
   "metadata": {},
   "outputs": [
    {
     "name": "stdout",
     "output_type": "stream",
     "text": [
      "[0 1 2 3 4 5 6 7 8 9]\n",
      "[[ 0  1  2  3]\n",
      " [ 4  5  6  7]\n",
      " [ 8  9 10 11]]\n"
     ]
    }
   ],
   "source": [
    "matrix_a = np.arange(10)\n",
    "matrix_b = np.arange(12).reshape(3,4)\n",
    "print(matrix_a)\n",
    "print(matrix_b)"
   ]
  },
  {
   "cell_type": "code",
   "execution_count": 16,
   "metadata": {},
   "outputs": [
    {
     "name": "stdout",
     "output_type": "stream",
     "text": [
      "0\n",
      "9\n"
     ]
    }
   ],
   "source": [
    "# 첫 요소와 마지막 요소\n",
    "print(matrix_a[0])\n",
    "print(matrix_a[-1])"
   ]
  },
  {
   "cell_type": "code",
   "execution_count": 20,
   "metadata": {},
   "outputs": [
    {
     "name": "stdout",
     "output_type": "stream",
     "text": [
      "0\n",
      "0\n",
      "11\n",
      "11\n"
     ]
    }
   ],
   "source": [
    "# 2차원에서 1행 1열\n",
    "print(matrix_b[0,0])\n",
    "print(matrix_b[0][0])\n",
    "# 마지막 행의 마지막열\n",
    "print(matrix_b[-1,-1])\n",
    "print(matrix_b[-1][-1])"
   ]
  },
  {
   "cell_type": "code",
   "execution_count": 21,
   "metadata": {},
   "outputs": [
    {
     "name": "stdout",
     "output_type": "stream",
     "text": [
      "[[ 0  1  2  3]\n",
      " [ 4  5  6  7]\n",
      " [ 8  9 10 11]]\n",
      "[[  0   1   2   3]\n",
      " [  4   5   6   7]\n",
      " [100   9  10  11]]\n"
     ]
    }
   ],
   "source": [
    "# matrix_b에서3행 1열의 값 변경하기\n",
    "print(matrix_b)\n",
    "matrix_b[2,0] = 100\n",
    "print(matrix_b)"
   ]
  },
  {
   "cell_type": "markdown",
   "metadata": {},
   "source": [
    "# 넘파이 배열의 슬라이싱\n",
    "## 1차원\n",
    "\n",
    "```\n",
    "넘파이 배열명 [start:end:step] start인 부분부터 end인 부분까지 step으로\n",
    "넘파이 배열명[start:end] start인 부분부터 end까지\n",
    "넘파이 배열명[start:]  start인 부분부터 끝까지\n",
    "넘파이 배열명[:end]  처음부터 end인 부분까지\n",
    "-기호는 역순으로 표시\n",
    "넘파이 배열명 [::-1]\n",
    "```"
   ]
  },
  {
   "cell_type": "code",
   "execution_count": 23,
   "metadata": {},
   "outputs": [
    {
     "data": {
      "text/plain": [
       "array([  0,  10,  20,  30,  40,  50,  60,  70,  80,  90, 100])"
      ]
     },
     "execution_count": 23,
     "metadata": {},
     "output_type": "execute_result"
    }
   ],
   "source": [
    "matrix_c = np.arange(0, 101, 10)\n",
    "matrix_c"
   ]
  },
  {
   "cell_type": "code",
   "execution_count": 31,
   "metadata": {},
   "outputs": [
    {
     "name": "stdout",
     "output_type": "stream",
     "text": [
      "[10 30 50]\n",
      "[ 0 10 20 30 40 50 60]\n",
      "[ 50  60  70  80  90 100]\n",
      "[  0  20  40  60  80 100]\n",
      "[100  90  80  70  60  50  40  30  20  10   0]\n"
     ]
    }
   ],
   "source": [
    "print(matrix_c[1:7:2]) # 인덱스1부터 7까지 2씩 건너서\n",
    "print(matrix_c[:7]) # 처음부터 인덱스 7까지\n",
    "print(matrix_c[5:]) # 인덱스 5부터 끝까지\n",
    "print(matrix_c[::2]) #전체에 대해서 2칸씩 건너 뛰기\n",
    "print(matrix_c[::-1]) # 역순"
   ]
  },
  {
   "cell_type": "markdown",
   "metadata": {},
   "source": [
    "## 2차원\n",
    "\n",
    "```\n",
    "넘파이 배열명 [start1:end1:step1, start2:end2:step2]\n",
    "- 역순으로 표시\n",
    "넘파이 배열명 [::-1, ::]\n",
    "넘파이 배열명 [::, ::-1]\n",
    "```"
   ]
  },
  {
   "cell_type": "code",
   "execution_count": 33,
   "metadata": {},
   "outputs": [
    {
     "data": {
      "text/plain": [
       "array([[ 1,  2,  3,  4,  5],\n",
       "       [ 6,  7,  8,  9, 10],\n",
       "       [11, 12, 13, 14, 15],\n",
       "       [16, 17, 18, 19, 20],\n",
       "       [21, 22, 23, 24, 25]])"
      ]
     },
     "execution_count": 33,
     "metadata": {},
     "output_type": "execute_result"
    }
   ],
   "source": [
    "# 5행 5열 만들기\n",
    "matrix_d = np.arange(1,26).reshape(5,5)\n",
    "matrix_d"
   ]
  },
  {
   "cell_type": "code",
   "execution_count": 45,
   "metadata": {},
   "outputs": [
    {
     "name": "stdout",
     "output_type": "stream",
     "text": [
      "[1 2 3 4 5]\n",
      "[[ 1  2  3  4  5]\n",
      " [ 6  7  8  9 10]]\n",
      "[[ 3  4]\n",
      " [ 8  9]\n",
      " [13 14]\n",
      " [18 19]\n",
      " [23 24]]\n",
      "[[ 1  2]\n",
      " [ 6  7]\n",
      " [11 12]]\n"
     ]
    }
   ],
   "source": [
    "print(matrix_d[0,::]) # 1행만 출력하기\n",
    "print(matrix_d[0:2, ::]) # 1,2행출력으로 모든 컬럼\n",
    "print(matrix_d[::,2:4]) # 모든행, 23컬럼 출력하기\n",
    "print(matrix_d[0:3, 0:2]) # 1,2,3행 출력, 1,2컬럼 출력"
   ]
  },
  {
   "cell_type": "code",
   "execution_count": 46,
   "metadata": {},
   "outputs": [
    {
     "name": "stdout",
     "output_type": "stream",
     "text": [
      "[[ 1  2  3  4  5]\n",
      " [11 12 13 14 15]\n",
      " [21 22 23 24 25]]\n",
      "[[ 2  4]\n",
      " [ 7  9]\n",
      " [12 14]\n",
      " [17 19]\n",
      " [22 24]]\n",
      "[[ 7  9]\n",
      " [17 19]]\n"
     ]
    }
   ],
   "source": [
    "print(matrix_d[::2, ::]) # 홀수번째 행만 출력\n",
    "print(matrix_d[::, 1::2]) # 짝수 열만 출력 1번째부터 시작해서 2step으로\n",
    "print(matrix_d[1::2, 1::2]) # 짝수번째행 + 짝수번째 열 출력"
   ]
  },
  {
   "cell_type": "code",
   "execution_count": 49,
   "metadata": {},
   "outputs": [
    {
     "name": "stdout",
     "output_type": "stream",
     "text": [
      "[[21 22 23 24 25]\n",
      " [16 17 18 19 20]\n",
      " [11 12 13 14 15]\n",
      " [ 6  7  8  9 10]\n",
      " [ 1  2  3  4  5]]\n",
      "[[ 5  4  3  2  1]\n",
      " [10  9  8  7  6]\n",
      " [15 14 13 12 11]\n",
      " [20 19 18 17 16]\n",
      " [25 24 23 22 21]]\n",
      "[[25 24 23 22 21]\n",
      " [20 19 18 17 16]\n",
      " [15 14 13 12 11]\n",
      " [10  9  8  7  6]\n",
      " [ 5  4  3  2  1]]\n"
     ]
    }
   ],
   "source": [
    "print(matrix_d[::-1, ::]) # 행인덱스를 기준으로 역순\n",
    "print(matrix_d[::, ::-1]) # 열 인덱스를 기준으로 역순\n",
    "print(matrix_d[::-1, ::-1]) # 행과 열 모두 역순"
   ]
  },
  {
   "cell_type": "markdown",
   "metadata": {},
   "source": [
    "# 전치행렬\n",
    "```\n",
    "넘파이배열 마지막에 .T를 붙인다.\n",
    "행이 열이되고 열이 행이되는것\n",
    "```"
   ]
  },
  {
   "cell_type": "code",
   "execution_count": 50,
   "metadata": {},
   "outputs": [
    {
     "data": {
      "text/plain": [
       "array([[1, 2],\n",
       "       [3, 4],\n",
       "       [5, 6]])"
      ]
     },
     "execution_count": 50,
     "metadata": {},
     "output_type": "execute_result"
    }
   ],
   "source": [
    "# 3행2열 넘파이 배열\n",
    "matrix_e = np.arange(1,7).reshape(3,2)\n",
    "matrix_e"
   ]
  },
  {
   "cell_type": "code",
   "execution_count": 51,
   "metadata": {},
   "outputs": [
    {
     "data": {
      "text/plain": [
       "array([[1, 3, 5],\n",
       "       [2, 4, 6]])"
      ]
     },
     "execution_count": 51,
     "metadata": {},
     "output_type": "execute_result"
    }
   ],
   "source": [
    "# 3행 2열 ===>> 2행 3열\n",
    "matrix_e.T"
   ]
  },
  {
   "cell_type": "markdown",
   "metadata": {},
   "source": [
    "# 넘파이 배열의 난수값 지정하기\n",
    "## 난수로 구성된 넘파이 배열 생성\n",
    "```\n",
    "np.random\n",
    "np.random.randint(start, end, n) #정수로 구성된 난수 생성\n",
    "np.random.randint(start, end, (i,j)) 정수로된 배열 생성\n",
    "```"
   ]
  },
  {
   "cell_type": "code",
   "execution_count": 58,
   "metadata": {},
   "outputs": [
    {
     "name": "stdout",
     "output_type": "stream",
     "text": [
      "[18 81]\n",
      "[6 6 9 4 2 4 8 7 5 3]\n",
      "[[1 9]\n",
      " [3 4]\n",
      " [1 9]\n",
      " [4 3]\n",
      " [3 4]]\n"
     ]
    }
   ],
   "source": [
    "print(np.random.randint(1, 100, 2)) # 1 ~ 100까지의 정수중 2개\n",
    "print(np.random.randint(1,10,10)) # 1 ~ 10까지의 정수중 10개\n",
    "print(np.random.randint(1,10,(5,2))) # 1~10까지의 숫자중 10개를 5행 2열형식으로"
   ]
  },
  {
   "cell_type": "markdown",
   "metadata": {},
   "source": [
    "## 섞기 \n",
    "``` \n",
    "np.random.shuffle(넘파이 배열)\n",
    "```"
   ]
  },
  {
   "cell_type": "code",
   "execution_count": 60,
   "metadata": {},
   "outputs": [
    {
     "name": "stdout",
     "output_type": "stream",
     "text": [
      "[ 1  2  3  4  5  6  7  8  9 10]\n"
     ]
    },
    {
     "data": {
      "text/plain": [
       "array([ 4,  9,  2,  8,  5,  6,  3, 10,  7,  1])"
      ]
     },
     "execution_count": 60,
     "metadata": {},
     "output_type": "execute_result"
    }
   ],
   "source": [
    "matrix_f = np.arange(1,11)\n",
    "print(matrix_f)\n",
    "np.random.shuffle(matrix_f) # np.random.shuffle을 사용해서 섞기\n",
    "matrix_f"
   ]
  },
  {
   "cell_type": "code",
   "execution_count": 61,
   "metadata": {},
   "outputs": [
    {
     "data": {
      "text/plain": [
       "array([ 8, 41, 30, 27, 16, 12])"
      ]
     },
     "execution_count": 61,
     "metadata": {},
     "output_type": "execute_result"
    }
   ],
   "source": [
    "# 1~ 46까지 구성된 숫자 중에서 6개를 뽑아서 로또 번호 생성하기\n",
    "np.random.randint(1, 47, 6)"
   ]
  },
  {
   "cell_type": "code",
   "execution_count": 64,
   "metadata": {},
   "outputs": [
    {
     "data": {
      "text/plain": [
       "array([ 2, 16, 45, 10, 22,  3])"
      ]
     },
     "execution_count": 64,
     "metadata": {},
     "output_type": "execute_result"
    }
   ],
   "source": [
    "# 1~ 46까지 구성된 숫자 중에서 6개를 뽑아서 로또 번호 생성하기\n",
    "matrixlotto = np.arange(1,47)\n",
    "matrixlotto\n",
    "np.random.shuffle(matrixlotto)\n",
    "lotto_num = matrixlotto[:6]\n",
    "lotto_num"
   ]
  },
  {
   "cell_type": "markdown",
   "metadata": {},
   "source": [
    "## 실수난수\n",
    "\n",
    "```\n",
    "matrix1 = np.random.randn(n)\n",
    "matrix2 = np.random.randn(i,j)\n",
    "```"
   ]
  },
  {
   "cell_type": "code",
   "execution_count": 65,
   "metadata": {},
   "outputs": [],
   "source": [
    "matrix1 = np.random.randn(10)\n",
    "matrix2 = np.random.randn(4,4)"
   ]
  },
  {
   "cell_type": "code",
   "execution_count": 66,
   "metadata": {},
   "outputs": [
    {
     "data": {
      "text/plain": [
       "array([-0.38715281, -0.79740213, -1.25212368, -0.36866331, -0.68807706,\n",
       "       -1.10197785, -1.89672438, -2.31251119,  0.83621455,  0.50069324])"
      ]
     },
     "execution_count": 66,
     "metadata": {},
     "output_type": "execute_result"
    }
   ],
   "source": [
    "matrix1"
   ]
  },
  {
   "cell_type": "code",
   "execution_count": 67,
   "metadata": {},
   "outputs": [
    {
     "data": {
      "text/plain": [
       "array([[ 0.57649042, -0.56106824, -1.83775906,  0.81647492],\n",
       "       [ 0.99658115, -0.65909955, -1.04171651,  0.97071268],\n",
       "       [ 0.65727231, -0.41194943, -0.33433592, -0.30263115],\n",
       "       [-0.30463249, -0.45696997,  0.48167344, -0.01308976]])"
      ]
     },
     "execution_count": 67,
     "metadata": {},
     "output_type": "execute_result"
    }
   ],
   "source": [
    "matrix2"
   ]
  },
  {
   "cell_type": "code",
   "execution_count": 69,
   "metadata": {},
   "outputs": [
    {
     "data": {
      "text/plain": [
       "(0.8362145496429086, -2.3125111934041245)"
      ]
     },
     "execution_count": 69,
     "metadata": {},
     "output_type": "execute_result"
    }
   ],
   "source": [
    "# 최대값, 최소값 \n",
    "matrix1.max(), matrix1.min()"
   ]
  },
  {
   "cell_type": "markdown",
   "metadata": {},
   "source": [
    "# 집계함수와 정렬에서의 축 \n",
    "\n",
    "```\n",
    "2차원에서 집게함수(sum, mean)\n",
    "axis = 0아니면 1\n",
    "np.sum(넘파이배열명, axis = 0/1)\n",
    "np.mean(넘파이배열명, axis=0/1)\n",
    "np.sort(넘파이배열명, axis=0/1)\n",
    "```"
   ]
  },
  {
   "cell_type": "code",
   "execution_count": 70,
   "metadata": {},
   "outputs": [
    {
     "data": {
      "text/plain": [
       "array([[40,  8, 34, 30, 38],\n",
       "       [33, 23, 26,  5,  8]])"
      ]
     },
     "execution_count": 70,
     "metadata": {},
     "output_type": "execute_result"
    }
   ],
   "source": [
    "# 정수 난수로 구성된 5*5\n",
    "m1 = np.random.randint(1, 50, (2,5))\n",
    "m1"
   ]
  },
  {
   "cell_type": "code",
   "execution_count": 71,
   "metadata": {},
   "outputs": [
    {
     "data": {
      "text/plain": [
       "array([73, 31, 60, 35, 46])"
      ]
     },
     "execution_count": 71,
     "metadata": {},
     "output_type": "execute_result"
    }
   ],
   "source": [
    "# axis = 0이면 열로 더하기\n",
    "np.sum(m1, axis=0)"
   ]
  },
  {
   "cell_type": "code",
   "execution_count": 72,
   "metadata": {},
   "outputs": [
    {
     "data": {
      "text/plain": [
       "array([150,  95])"
      ]
     },
     "execution_count": 72,
     "metadata": {},
     "output_type": "execute_result"
    }
   ],
   "source": [
    "# axis = 1이면 행으로 더하기\n",
    "np.sum(m1, axis=1)"
   ]
  },
  {
   "cell_type": "code",
   "execution_count": 73,
   "metadata": {},
   "outputs": [
    {
     "data": {
      "text/plain": [
       "150"
      ]
     },
     "execution_count": 73,
     "metadata": {},
     "output_type": "execute_result"
    }
   ],
   "source": [
    "# 1행의 합계는??\n",
    "np.sum(m1[0,:])"
   ]
  },
  {
   "cell_type": "code",
   "execution_count": 76,
   "metadata": {},
   "outputs": [
    {
     "data": {
      "text/plain": [
       "150"
      ]
     },
     "execution_count": 76,
     "metadata": {},
     "output_type": "execute_result"
    }
   ],
   "source": [
    "np.sum(m1, axis=1)[0]"
   ]
  },
  {
   "cell_type": "code",
   "execution_count": 77,
   "metadata": {},
   "outputs": [
    {
     "data": {
      "text/plain": [
       "array([40, 33])"
      ]
     },
     "execution_count": 77,
     "metadata": {},
     "output_type": "execute_result"
    }
   ],
   "source": [
    "np.max(m1, axis=1)"
   ]
  },
  {
   "cell_type": "markdown",
   "metadata": {},
   "source": [
    "## np.sort()"
   ]
  },
  {
   "cell_type": "code",
   "execution_count": 78,
   "metadata": {},
   "outputs": [
    {
     "data": {
      "text/plain": [
       "array([[ 5, 37,  9],\n",
       "       [31, 33, 21],\n",
       "       [33, 36, 11],\n",
       "       [41, 44,  8]])"
      ]
     },
     "execution_count": 78,
     "metadata": {},
     "output_type": "execute_result"
    }
   ],
   "source": [
    "# 정수, 난수로 구성된 2*5\n",
    "m2 = np.random.randint(1,50, (4,3))\n",
    "m2"
   ]
  },
  {
   "cell_type": "code",
   "execution_count": 79,
   "metadata": {},
   "outputs": [
    {
     "data": {
      "text/plain": [
       "array([[ 5, 33,  8],\n",
       "       [31, 36,  9],\n",
       "       [33, 37, 11],\n",
       "       [41, 44, 21]])"
      ]
     },
     "execution_count": 79,
     "metadata": {},
     "output_type": "execute_result"
    }
   ],
   "source": [
    "# axis = 0이면 세로방향으로 값을 기준으로 오름차순 정렬\n",
    "m2 = np.sort(m2, axis= 0)\n",
    "m2"
   ]
  },
  {
   "cell_type": "code",
   "execution_count": 80,
   "metadata": {},
   "outputs": [
    {
     "data": {
      "text/plain": [
       "array([[ 5,  8, 33],\n",
       "       [ 9, 31, 36],\n",
       "       [11, 33, 37],\n",
       "       [21, 41, 44]])"
      ]
     },
     "execution_count": 80,
     "metadata": {},
     "output_type": "execute_result"
    }
   ],
   "source": [
    "# axis = 1이면 가로방향으로 값을 기준으로 오름차순 정렬\n",
    "np.sort(m2, axis=1)"
   ]
  },
  {
   "cell_type": "code",
   "execution_count": 82,
   "metadata": {},
   "outputs": [
    {
     "data": {
      "text/plain": [
       "array([[41, 44, 21],\n",
       "       [33, 37, 11],\n",
       "       [31, 36,  9],\n",
       "       [ 5, 33,  8]])"
      ]
     },
     "execution_count": 82,
     "metadata": {},
     "output_type": "execute_result"
    }
   ],
   "source": [
    "# 내림차순으로 다시 정렬\n",
    "m2[::-1, ::]"
   ]
  },
  {
   "cell_type": "markdown",
   "metadata": {},
   "source": [
    "## 인덱스 소팅\n",
    "\n",
    "```\n",
    "np.argsort(배열명, axis=0/1)\n",
    "argsort = argumentsort로써 인덱스가 반환이 된다.\n",
    "\n",
    "넘파이 배열 [np.argsort 배열] => 오름차순한 결과\n",
    "```"
   ]
  },
  {
   "cell_type": "code",
   "execution_count": 83,
   "metadata": {},
   "outputs": [
    {
     "data": {
      "text/plain": [
       "array([1, 2, 0], dtype=int64)"
      ]
     },
     "execution_count": 83,
     "metadata": {},
     "output_type": "execute_result"
    }
   ],
   "source": [
    "# 순서에 맞게 인덱스가 Sort된다.\n",
    "x = np.array([3,1,2])\n",
    "np.argsort(x)"
   ]
  },
  {
   "cell_type": "code",
   "execution_count": 85,
   "metadata": {},
   "outputs": [
    {
     "data": {
      "text/plain": [
       "array([1, 2, 3])"
      ]
     },
     "execution_count": 85,
     "metadata": {},
     "output_type": "execute_result"
    }
   ],
   "source": [
    "x[np.argsort(x)] # x의 값에 대해서 argsort한 순서대로 내보내기"
   ]
  },
  {
   "cell_type": "code",
   "execution_count": 86,
   "metadata": {},
   "outputs": [
    {
     "data": {
      "text/plain": [
       "array([1, 2, 3])"
      ]
     },
     "execution_count": 86,
     "metadata": {},
     "output_type": "execute_result"
    }
   ],
   "source": [
    "np.sort(x)"
   ]
  },
  {
   "cell_type": "markdown",
   "metadata": {},
   "source": [
    "## 넘파이 배열의 추가와 삭제\n",
    "\n",
    "```\n",
    "np.insert(배열명, 위치인덱스, 값, axis=0/1)\n",
    "2차원인 경우 axis를 설정하지 않으면 1차원 배열로 변경된 후 값이 삽입된다.\n",
    "값은 리스트나 특정 숫자\n",
    "```"
   ]
  },
  {
   "cell_type": "code",
   "execution_count": 89,
   "metadata": {},
   "outputs": [
    {
     "data": {
      "text/plain": [
       "array([100,   1,   2,   3,   4,   5,   6,   7,   8,   9,  10])"
      ]
     },
     "execution_count": 89,
     "metadata": {},
     "output_type": "execute_result"
    }
   ],
   "source": [
    "mm1 = np.arange(1,11)\n",
    "# 1차원인 경우는 axis 불필요\n",
    "mm1 = np.insert(mm1, 0, 100) # 0번째 인덱스에 100값 삽입\n",
    "mm1"
   ]
  },
  {
   "cell_type": "code",
   "execution_count": 91,
   "metadata": {},
   "outputs": [
    {
     "data": {
      "text/plain": [
       "array([100,   1,   2,   3,   4,   5,   6,   7,   8,   9, 500,  10])"
      ]
     },
     "execution_count": 91,
     "metadata": {},
     "output_type": "execute_result"
    }
   ],
   "source": [
    "# -1이면 맨 마지막 자리에서 한 자리 앞으로 삽입이 된다. \n",
    "# 끝에서 2번째 자리 \n",
    "np.insert(mm1, -1, 500)"
   ]
  },
  {
   "cell_type": "code",
   "execution_count": 92,
   "metadata": {},
   "outputs": [
    {
     "data": {
      "text/plain": [
       "array([100,   1,   2,   3,   4,   5,   6,   7,   8, 500,   9,  10])"
      ]
     },
     "execution_count": 92,
     "metadata": {},
     "output_type": "execute_result"
    }
   ],
   "source": [
    "# 끝에서 3번째 자리\n",
    "np.insert(mm1, -2, 500)"
   ]
  },
  {
   "cell_type": "code",
   "execution_count": 93,
   "metadata": {},
   "outputs": [
    {
     "data": {
      "text/plain": [
       "array([100,   1,   2,   3,   4,   5,   6,   7,   8,   9,  10, 500])"
      ]
     },
     "execution_count": 93,
     "metadata": {},
     "output_type": "execute_result"
    }
   ],
   "source": [
    "# 제일 끝자리 0부터 시작을 하여서 len을 하면 +1로써 마지막으로 들어간다.\n",
    "np.insert(mm1, len(mm1), 500)"
   ]
  },
  {
   "cell_type": "code",
   "execution_count": 94,
   "metadata": {},
   "outputs": [
    {
     "data": {
      "text/plain": [
       "array([[1, 2, 3],\n",
       "       [4, 5, 6],\n",
       "       [7, 8, 9]])"
      ]
     },
     "execution_count": 94,
     "metadata": {},
     "output_type": "execute_result"
    }
   ],
   "source": [
    "mm2 = np.arange(1,10).reshape(3,3)\n",
    "mm2"
   ]
  },
  {
   "cell_type": "code",
   "execution_count": 95,
   "metadata": {},
   "outputs": [
    {
     "data": {
      "text/plain": [
       "array([100,   1,   2,   3,   4,   5,   6,   7,   8,   9])"
      ]
     },
     "execution_count": 95,
     "metadata": {},
     "output_type": "execute_result"
    }
   ],
   "source": [
    "# 2차원인데 axis를 넣지 않아서 1차원으로 변경이 되었다.\n",
    "# 기존 mm2는 1부터 9까지의 3행3열 2차원 But \n",
    "np.insert(mm2, 0, 100)"
   ]
  },
  {
   "cell_type": "code",
   "execution_count": 97,
   "metadata": {},
   "outputs": [
    {
     "data": {
      "text/plain": [
       "array([[100, 100, 100],\n",
       "       [  1,   2,   3],\n",
       "       [  4,   5,   6],\n",
       "       [  7,   8,   9]])"
      ]
     },
     "execution_count": 97,
     "metadata": {},
     "output_type": "execute_result"
    }
   ],
   "source": [
    "# 1행으로 [100, 100, 100]생성해서 삽입\n",
    "np.insert(mm2, 0, 100, axis=0) # 첫행에 가로행으로 삽입"
   ]
  },
  {
   "cell_type": "code",
   "execution_count": 99,
   "metadata": {},
   "outputs": [
    {
     "data": {
      "text/plain": [
       "array([[100,   1,   2,   3],\n",
       "       [100,   4,   5,   6],\n",
       "       [100,   7,   8,   9]])"
      ]
     },
     "execution_count": 99,
     "metadata": {},
     "output_type": "execute_result"
    }
   ],
   "source": [
    "np.insert(mm2, 0, 100, axis=1) # 첫 열에 100 삽입"
   ]
  },
  {
   "cell_type": "code",
   "execution_count": 100,
   "metadata": {},
   "outputs": [
    {
     "data": {
      "text/plain": [
       "array([[100,   1,   2,   3],\n",
       "       [200,   4,   5,   6],\n",
       "       [300,   7,   8,   9]])"
      ]
     },
     "execution_count": 100,
     "metadata": {},
     "output_type": "execute_result"
    }
   ],
   "source": [
    "np.insert(mm2, 0, [100, 200, 300], axis=1) # 첫 열에 100,200,300 삽입"
   ]
  },
  {
   "cell_type": "code",
   "execution_count": 102,
   "metadata": {},
   "outputs": [
    {
     "data": {
      "text/plain": [
       "array([[  1,   2,   3, 100],\n",
       "       [  4,   5,   6, 200],\n",
       "       [  7,   8,   9, 300]])"
      ]
     },
     "execution_count": 102,
     "metadata": {},
     "output_type": "execute_result"
    }
   ],
   "source": [
    "np.insert(mm2, 3, [100, 200, 300], axis=1) # 마지막 열에 100,200,300 삽입\n"
   ]
  },
  {
   "cell_type": "code",
   "execution_count": 105,
   "metadata": {},
   "outputs": [
    {
     "data": {
      "text/plain": [
       "array([[  1,   2,   3, 100],\n",
       "       [  4,   5,   6, 200],\n",
       "       [  7,   8,   9, 300]])"
      ]
     },
     "execution_count": 105,
     "metadata": {},
     "output_type": "execute_result"
    }
   ],
   "source": [
    "# 리스트로 삽입 - 마지막 컬럼으로 삽입\n",
    "# 배열명 .shape[1] 컬럼길이\n",
    "# mm2.shape[1] =3\n",
    "np.insert(mm2, mm2.shape[1], [100,200,300], axis=1)"
   ]
  },
  {
   "cell_type": "code",
   "execution_count": 106,
   "metadata": {},
   "outputs": [
    {
     "data": {
      "text/plain": [
       "array([[4, 5, 6],\n",
       "       [7, 8, 9]])"
      ]
     },
     "execution_count": 106,
     "metadata": {},
     "output_type": "execute_result"
    }
   ],
   "source": [
    "# 1행 삭제\n",
    "np.delete(mm2, 0, axis=0)"
   ]
  },
  {
   "cell_type": "code",
   "execution_count": 107,
   "metadata": {},
   "outputs": [
    {
     "data": {
      "text/plain": [
       "array([2, 3, 4, 5, 6, 7, 8, 9])"
      ]
     },
     "execution_count": 107,
     "metadata": {},
     "output_type": "execute_result"
    }
   ],
   "source": [
    "# 첫번째 원소만 삭제\n",
    "# 2차원 배열이 1차원으로 변경\n",
    "np.delete(mm2, 0)"
   ]
  },
  {
   "cell_type": "code",
   "execution_count": 108,
   "metadata": {},
   "outputs": [
    {
     "data": {
      "text/plain": [
       "array([[2, 3],\n",
       "       [5, 6],\n",
       "       [8, 9]])"
      ]
     },
     "execution_count": 108,
     "metadata": {},
     "output_type": "execute_result"
    }
   ],
   "source": [
    "# 1열 삭제\n",
    "np.delete(mm2, 0, axis=1)"
   ]
  },
  {
   "cell_type": "markdown",
   "metadata": {},
   "source": [
    "## Stack \n",
    "```\n",
    "vstack --> 겹대괄호 사용 행으로 합치기, 2차원으로 지정\n",
    "hstack --> 겹대괄호 사용 열로 합치기\n",
    "```"
   ]
  },
  {
   "cell_type": "code",
   "execution_count": 110,
   "metadata": {},
   "outputs": [
    {
     "name": "stdout",
     "output_type": "stream",
     "text": [
      "[[1 2 3]\n",
      " [4 5 6]]\n",
      "[1 2 3 4 5 6]\n"
     ]
    }
   ],
   "source": [
    "a = np.array([1,2,3])\n",
    "b = np.array([4,5,6])\n",
    "print(np.vstack((a,b))) # 행으로 합치기\n",
    "print(np.hstack((a,b))) # 열로 합치기 "
   ]
  },
  {
   "cell_type": "code",
   "execution_count": 111,
   "metadata": {},
   "outputs": [
    {
     "data": {
      "text/plain": [
       "(array([[1, 2, 3],\n",
       "        [4, 5, 6]]),\n",
       " (2, 3))"
      ]
     },
     "execution_count": 111,
     "metadata": {},
     "output_type": "execute_result"
    }
   ],
   "source": [
    "# 2차원 배열 재구성\n",
    "np.vstack((a,b)), np.vstack((a,b)).shape"
   ]
  },
  {
   "cell_type": "code",
   "execution_count": 112,
   "metadata": {},
   "outputs": [
    {
     "data": {
      "text/plain": [
       "array([1, 2, 3, 4, 5, 6])"
      ]
     },
     "execution_count": 112,
     "metadata": {},
     "output_type": "execute_result"
    }
   ],
   "source": [
    "# 열을 기준으로 병합\n",
    "np.hstack((a,b))"
   ]
  },
  {
   "cell_type": "markdown",
   "metadata": {},
   "source": [
    "## concatenate() 합치기 \n",
    "```\n",
    "But 무조건 2차원이어야 한다.\n",
    "```"
   ]
  },
  {
   "cell_type": "code",
   "execution_count": 113,
   "metadata": {},
   "outputs": [
    {
     "data": {
      "text/plain": [
       "(array([[1, 2, 3]]), 2, (1, 3))"
      ]
     },
     "execution_count": 113,
     "metadata": {},
     "output_type": "execute_result"
    }
   ],
   "source": [
    "c = np.array([[1,2,3]])\n",
    "# ndim을 통해서 차원확인, shape를 통해서 모양확인\n",
    "c, c.ndim, c.shape"
   ]
  },
  {
   "cell_type": "code",
   "execution_count": 114,
   "metadata": {},
   "outputs": [
    {
     "data": {
      "text/plain": [
       "(array([[4, 5, 6]]), 2, (1, 3))"
      ]
     },
     "execution_count": 114,
     "metadata": {},
     "output_type": "execute_result"
    }
   ],
   "source": [
    "d = np.array([[4,5,6]])\n",
    "d, d.ndim, d.shape"
   ]
  },
  {
   "cell_type": "code",
   "execution_count": 116,
   "metadata": {},
   "outputs": [
    {
     "data": {
      "text/plain": [
       "array([[1, 2, 3],\n",
       "       [4, 5, 6]])"
      ]
     },
     "execution_count": 116,
     "metadata": {},
     "output_type": "execute_result"
    }
   ],
   "source": [
    "# 2차원 행렬을 행으로 합치기\n",
    "np.concatenate((c,d), axis=0)"
   ]
  },
  {
   "cell_type": "code",
   "execution_count": 117,
   "metadata": {},
   "outputs": [
    {
     "data": {
      "text/plain": [
       "array([[1, 2, 3, 4, 5, 6]])"
      ]
     },
     "execution_count": 117,
     "metadata": {},
     "output_type": "execute_result"
    }
   ],
   "source": [
    "# 2차원 행렬을 열으로 합치기\n",
    "np.concatenate((c,d), axis=1)"
   ]
  },
  {
   "cell_type": "code",
   "execution_count": null,
   "metadata": {},
   "outputs": [],
   "source": []
  },
  {
   "cell_type": "code",
   "execution_count": null,
   "metadata": {},
   "outputs": [],
   "source": []
  },
  {
   "cell_type": "code",
   "execution_count": null,
   "metadata": {},
   "outputs": [],
   "source": []
  },
  {
   "cell_type": "code",
   "execution_count": null,
   "metadata": {},
   "outputs": [],
   "source": []
  },
  {
   "cell_type": "code",
   "execution_count": null,
   "metadata": {},
   "outputs": [],
   "source": []
  }
 ],
 "metadata": {
  "interpreter": {
   "hash": "04e7f2769c1631b84125f1e6ade537573267c83712f7cd43d7129a2cc5345ab8"
  },
  "kernelspec": {
   "display_name": "Python 3.7.12 ('lima')",
   "language": "python",
   "name": "python3"
  },
  "language_info": {
   "codemirror_mode": {
    "name": "ipython",
    "version": 3
   },
   "file_extension": ".py",
   "mimetype": "text/x-python",
   "name": "python",
   "nbconvert_exporter": "python",
   "pygments_lexer": "ipython3",
   "version": "3.7.12"
  },
  "orig_nbformat": 4
 },
 "nbformat": 4,
 "nbformat_minor": 2
}
